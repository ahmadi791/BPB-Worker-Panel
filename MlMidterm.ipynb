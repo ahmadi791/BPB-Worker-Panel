{
  "nbformat": 4,
  "nbformat_minor": 0,
  "metadata": {
    "colab": {
      "provenance": [],
      "authorship_tag": "ABX9TyO8XG2DXcsQXCkD5FdZrl81",
      "include_colab_link": true
    },
    "kernelspec": {
      "name": "python3",
      "display_name": "Python 3"
    },
    "language_info": {
      "name": "python"
    }
  },
  "cells": [
    {
      "cell_type": "markdown",
      "metadata": {
        "id": "view-in-github",
        "colab_type": "text"
      },
      "source": [
        "<a href=\"https://colab.research.google.com/github/ahmadi791/BPB-Worker-Panel/blob/main/MlMidterm.ipynb\" target=\"_parent\"><img src=\"https://colab.research.google.com/assets/colab-badge.svg\" alt=\"Open In Colab\"/></a>"
      ]
    },
    {
      "cell_type": "markdown",
      "source": [
        "Q4) A and B"
      ],
      "metadata": {
        "id": "6Us1aSlCa_tc"
      }
    },
    {
      "cell_type": "code",
      "source": [
        "# Part A: Loading and Splitting the Forest Cover Type Dataset\n",
        "\n",
        "# Import necessary libraries\n",
        "import numpy as np\n",
        "import pandas as pd\n",
        "from sklearn.datasets import fetch_covtype\n",
        "from sklearn.model_selection import train_test_split\n",
        "\n",
        "# Load a subset of the forest cover type dataset\n",
        "print(\"Loading the forest cover type dataset...\")\n",
        "forest_data = fetch_covtype(as_frame=True)\n",
        "X = forest_data.data\n",
        "y = forest_data.target\n",
        "\n",
        "# Take only a subset of the data to reduce computational load\n",
        "# Using 10% of the original dataset\n",
        "X_subset, _, y_subset, _ = train_test_split(X, y, test_size=0.9, random_state=42)\n",
        "\n",
        "print(f\"Original dataset shape: {X.shape}\")\n",
        "print(f\"Subset shape: {X_subset.shape}\")\n",
        "\n",
        "# Split the subset into training and testing sets (80% train, 20% test)\n",
        "X_train, X_test, y_train, y_test = train_test_split(\n",
        "    X_subset, y_subset, test_size=0.2, random_state=42, stratify=y_subset\n",
        ")\n",
        "\n",
        "print(f\"Training set shape: {X_train.shape}\")\n",
        "print(f\"Testing set shape: {X_test.shape}\")\n",
        "\n",
        "# Display class distribution in the training set\n",
        "unique_classes, class_counts = np.unique(y_train, return_counts=True)\n",
        "print(\"\\nClass distribution in training set:\")\n",
        "for cls, count in zip(unique_classes, class_counts):\n",
        "    print(f\"Class {cls}: {count} samples ({count/len(y_train)*100:.2f}%)\")\n",
        "\n",
        "# Save the prepared datasets for later use\n",
        "print(\"\\nData preparation completed!\")\n"
      ],
      "metadata": {
        "colab": {
          "base_uri": "https://localhost:8080/"
        },
        "id": "P4HX3Wj4kCcs",
        "outputId": "c320e462-7f50-412c-fbdd-3ea9553c55a8"
      },
      "execution_count": 1,
      "outputs": [
        {
          "output_type": "stream",
          "name": "stdout",
          "text": [
            "Loading the forest cover type dataset...\n",
            "Original dataset shape: (581012, 54)\n",
            "Subset shape: (58101, 54)\n",
            "Training set shape: (46480, 54)\n",
            "Testing set shape: (11621, 54)\n",
            "\n",
            "Class distribution in training set:\n",
            "Class 1: 17137 samples (36.87%)\n",
            "Class 2: 22502 samples (48.41%)\n",
            "Class 3: 2883 samples (6.20%)\n",
            "Class 4: 225 samples (0.48%)\n",
            "Class 5: 715 samples (1.54%)\n",
            "Class 6: 1395 samples (3.00%)\n",
            "Class 7: 1623 samples (3.49%)\n",
            "\n",
            "Data preparation completed!\n"
          ]
        }
      ]
    },
    {
      "cell_type": "markdown",
      "source": [
        "Q2)B)"
      ],
      "metadata": {
        "id": "8Ftlho0QiVOa"
      }
    },
    {
      "cell_type": "code",
      "source": [
        "# Part B: Implementation of Linear Classifier (Logistic Regression)\n",
        "from sklearn.linear_model import LogisticRegression\n",
        "from sklearn.metrics import accuracy_score, precision_score, recall_score, f1_score, confusion_matrix\n",
        "import seaborn as sns\n",
        "import matplotlib.pyplot as plt\n",
        "\n",
        "# Define the logistic regression model\n",
        "log_reg = LogisticRegression(max_iter=1000, random_state=42)\n",
        "\n",
        "# Train the model on the training data\n",
        "log_reg.fit(X_train, y_train)\n",
        "\n",
        "# Make predictions on the test data\n",
        "y_pred = log_reg.predict(X_test)\n",
        "\n",
        "# Calculate evaluation metrics\n",
        "accuracy = accuracy_score(y_test, y_pred)\n",
        "precision = precision_score(y_test, y_pred, average='weighted')\n",
        "recall = recall_score(y_test, y_pred, average='weighted')\n",
        "f1 = f1_score(y_test, y_pred, average='weighted')\n",
        "\n",
        "# Display results\n",
        "print(\"Logistic Regression Results:\")\n",
        "print(f\"Accuracy: {accuracy:.4f}\")\n",
        "print(f\"Precision: {precision:.4f}\")\n",
        "print(f\"Recall: {recall:.4f}\")\n",
        "print(f\"F1 Score: {f1:.4f}\")\n",
        "\n",
        "# Confusion matrix\n",
        "conf_matrix = confusion_matrix(y_test, y_pred)\n",
        "plt.figure(figsize=(10, 8))\n",
        "sns.heatmap(conf_matrix, annot=True, fmt='d', cmap='Blues')\n",
        "plt.xlabel('Predicted')\n",
        "plt.ylabel('Actual')\n",
        "plt.title('Confusion Matrix')\n",
        "plt.show()\n",
        "\n",
        "# Performance analysis for each class\n",
        "class_report = classification_report(y_test, y_pred, output_dict=True)\n",
        "for cls in class_report:\n",
        "    if cls not in ['accuracy', 'macro avg', 'weighted avg']:\n",
        "        print(f\"Class {cls}:\")\n",
        "        print(f\"Precision: {class_report[cls]['precision']:.4f}\")\n",
        "        print(f\"Recall: {class_report[cls]['recall']:.4f}\")\n",
        "        print(f\"F1 Score: {class_report[cls]['f1-score']:.4f}\")\n",
        "        print()\n"
      ],
      "metadata": {
        "colab": {
          "base_uri": "https://localhost:8080/",
          "height": 1000
        },
        "id": "e02IjT0liatz",
        "outputId": "1d886982-4267-4baf-8a66-59c7be28c49b"
      },
      "execution_count": 2,
      "outputs": [
        {
          "output_type": "stream",
          "name": "stderr",
          "text": [
            "/usr/local/lib/python3.11/dist-packages/sklearn/linear_model/_logistic.py:465: ConvergenceWarning: lbfgs failed to converge (status=1):\n",
            "STOP: TOTAL NO. OF ITERATIONS REACHED LIMIT.\n",
            "\n",
            "Increase the number of iterations (max_iter) or scale the data as shown in:\n",
            "    https://scikit-learn.org/stable/modules/preprocessing.html\n",
            "Please also refer to the documentation for alternative solver options:\n",
            "    https://scikit-learn.org/stable/modules/linear_model.html#logistic-regression\n",
            "  n_iter_i = _check_optimize_result(\n",
            "/usr/local/lib/python3.11/dist-packages/sklearn/metrics/_classification.py:1565: UndefinedMetricWarning: Precision is ill-defined and being set to 0.0 in labels with no predicted samples. Use `zero_division` parameter to control this behavior.\n",
            "  _warn_prf(average, modifier, f\"{metric.capitalize()} is\", len(result))\n"
          ]
        },
        {
          "output_type": "stream",
          "name": "stdout",
          "text": [
            "Logistic Regression Results:\n",
            "Accuracy: 0.6869\n",
            "Precision: 0.6542\n",
            "Recall: 0.6869\n",
            "F1 Score: 0.6639\n"
          ]
        },
        {
          "output_type": "display_data",
          "data": {
            "text/plain": [
              "<Figure size 1000x800 with 2 Axes>"
            ],
            "image/png": "[encoded data removed]"
          },
          "metadata": {}
        },
        {
          "output_type": "error",
          "ename": "NameError",
          "evalue": "name 'classification_report' is not defined",
          "traceback": [
            "\u001b[0;31m---------------------------------------------------------------------------\u001b[0m",
            "\u001b[0;31mNameError\u001b[0m                                 Traceback (most recent call last)",
            "\u001b[0;32m<ipython-input-2-d6c87d73cc8a>\u001b[0m in \u001b[0;36m<cell line: 0>\u001b[0;34m()\u001b[0m\n\u001b[1;32m     37\u001b[0m \u001b[0;34m\u001b[0m\u001b[0m\n\u001b[1;32m     38\u001b[0m \u001b[0;31m# Performance analysis for each class\u001b[0m\u001b[0;34m\u001b[0m\u001b[0;34m\u001b[0m\u001b[0m\n\u001b[0;32m---> 39\u001b[0;31m \u001b[0mclass_report\u001b[0m \u001b[0;34m=\u001b[0m \u001b[0mclassification_report\u001b[0m\u001b[0;34m(\u001b[0m\u001b[0my_test\u001b[0m\u001b[0;34m,\u001b[0m \u001b[0my_pred\u001b[0m\u001b[0;34m,\u001b[0m \u001b[0moutput_dict\u001b[0m\u001b[0;34m=\u001b[0m\u001b[0;32mTrue\u001b[0m\u001b[0;34m)\u001b[0m\u001b[0;34m\u001b[0m\u001b[0;34m\u001b[0m\u001b[0m\n\u001b[0m\u001b[1;32m     40\u001b[0m \u001b[0;32mfor\u001b[0m \u001b[0mcls\u001b[0m \u001b[0;32min\u001b[0m \u001b[0mclass_report\u001b[0m\u001b[0;34m:\u001b[0m\u001b[0;34m\u001b[0m\u001b[0;34m\u001b[0m\u001b[0m\n\u001b[1;32m     41\u001b[0m     \u001b[0;32mif\u001b[0m \u001b[0mcls\u001b[0m \u001b[0;32mnot\u001b[0m \u001b[0;32min\u001b[0m \u001b[0;34m[\u001b[0m\u001b[0;34m'accuracy'\u001b[0m\u001b[0;34m,\u001b[0m \u001b[0;34m'macro avg'\u001b[0m\u001b[0;34m,\u001b[0m \u001b[0;34m'weighted avg'\u001b[0m\u001b[0;34m]\u001b[0m\u001b[0;34m:\u001b[0m\u001b[0;34m\u001b[0m\u001b[0;34m\u001b[0m\u001b[0m\n",
            "\u001b[0;31mNameError\u001b[0m: name 'classification_report' is not defined"
          ]
        }
      ]
    },
    {
      "cell_type": "code",
      "source": [],
      "metadata": {
        "id": "gGY_PPxmniwV"
      },
      "execution_count": null,
      "outputs": []
    },
    {
      "cell_type": "markdown",
      "source": [
        "Q4) C"
      ],
      "metadata": {
        "id": "b5A2-H2Ha_It"
      }
    },
    {
      "cell_type": "code",
      "source": [
        "# Import necessary libraries\n",
        "import pandas as pd\n",
        "from sklearn.tree import DecisionTreeClassifier\n",
        "from sklearn.metrics import classification_report, confusion_matrix, accuracy_score, precision_score, recall_score, f1_score\n",
        "\n",
        "# Step 1: Train a Decision Tree model\n",
        "# Initialize the decision tree classifier\n",
        "tree_model = DecisionTreeClassifier(random_state=42)\n",
        "\n",
        "# Fit the model on the training data\n",
        "tree_model.fit(X_train, y_train)\n",
        "\n",
        "# Step 2: Evaluate the Decision Tree model\n",
        "# Make predictions on the test data\n",
        "y_pred_tree = tree_model.predict(X_test)\n",
        "\n",
        "# Calculate evaluation metrics\n",
        "conf_matrix_tree = confusion_matrix(y_test, y_pred_tree)\n",
        "accuracy_tree = accuracy_score(y_test, y_pred_tree)\n",
        "precision_tree = precision_score(y_test, y_pred_tree, average='weighted')\n",
        "recall_tree = recall_score(y_test, y_pred_tree, average='weighted')\n",
        "f1_tree = f1_score(y_test, y_pred_tree, average='weighted')\n",
        "\n",
        "# Print evaluation results for Decision Tree\n",
        "print(\"Decision Tree Results:\")\n",
        "print(\"Confusion Matrix:\\n\", conf_matrix_tree)\n",
        "print(\"Accuracy:\", accuracy_tree)\n",
        "print(\"Precision:\", precision_tree)\n",
        "print(\"Recall:\", recall_tree)\n",
        "print(\"F1 Score:\", f1_tree)\n",
        "\n",
        "# Step 3: Analyze the impact of hyperparameters on Decision Tree\n",
        "# Experiment with different max_depth values\n",
        "for max_depth in [5, 10, 15]:\n",
        "    tree_model = DecisionTreeClassifier(max_depth=max_depth, random_state=42)\n",
        "    tree_model.fit(X_train, y_train)\n",
        "    y_pred = tree_model.predict(X_test)\n",
        "    print(f\"\\nDecision Tree with max_depth={max_depth}:\")\n",
        "    print(\"Accuracy:\", accuracy_score(y_test, y_pred))\n",
        "    print(\"Precision:\", precision_score(y_test, y_pred, average='weighted'))\n",
        "    print(\"Recall:\", recall_score(y_test, y_pred, average='weighted'))\n",
        "    print(\"F1 Score:\", f1_score(y_test, y_pred, average='weighted'))\n"
      ],
      "metadata": {
        "id": "3PYqT-aShn8B"
      },
      "execution_count": null,
      "outputs": []
    },
    {
      "cell_type": "markdown",
      "source": [
        "Q5) A)"
      ],
      "metadata": {
        "id": "ROPF_QCwa_P9"
      }
    },
    {
      "cell_type": "code",
      "source": [
        "import gdown\n",
        "import pandas as pd\n",
        "import numpy as np\n",
        "\n",
        "# Step 1: Define the Google Drive file ID or URL\n",
        "file_id = \"your_file_id\"  # Replace with your file ID\n",
        "file_name = \"dataset.csv\"  # Desired name for the downloaded file\n",
        "#rl = f\"https://drive.google.com/uc?id={file_id}\"\n",
        "url = \"https://drive.google.com/file/d/1Eo6S0PdLyJ1TuwH1cw15-hw0VTpCxauS/view?usp=drivesdk\"\n",
        "# Step 2: Download the file using gdown\n",
        "print(\"Downloading file from Google Drive...\")\n",
        "gdown.download(url, file_name, quiet=False)\n",
        "print(f\"File downloaded as: {file_name}\")\n",
        "\n",
        "# Step 3: Load the dataset using pandas\n",
        "try:\n",
        "    # Specify the correct delimiter (e.g., comma, semicolon, or tab)\n",
        "    data = pd.read_csv(file_name, delimiter='\\t')  # Change this if needed\n",
        "    print(\"\\nDataset loaded successfully!\")\n",
        "except Exception as e:\n",
        "    print(f\"Error loading dataset: {e}\")\n",
        "    exit()\n",
        "\n",
        "# Step 4: Separate features and labels\n",
        "try:\n",
        "    # Assuming columns 'acc_x', 'acc_y', 'acc_z' are features and 'class' is the label\n",
        "    X = data[[1,2,3]].values  # Features\n",
        "    y = data['label'].values  # Labels\n",
        "except KeyError as e:\n",
        "    print(f\"Error: Missing required columns in the dataset. {e}\")\n",
        "    exit()\n",
        "\n",
        "# Step 5: Print the loaded data to confirm\n",
        "print(\"\\nFirst 5 rows of Features (X):\")\n",
        "print(X[:5])\n",
        "print(\"\\nFirst 5 Labels (y):\")\n",
        "print(y[:5])\n",
        "\n",
        "# Print shapes of the arrays\n",
        "print(\"\\nFeatures Shape:\", X.shape)\n",
        "print(\"Labels Shape:\", y.shape)\n"
      ],
      "metadata": {
        "id": "-5QPXh7JwEpk",
        "outputId": "09a52cec-69cb-4c51-f7f6-6075f0caf773",
        "colab": {
          "base_uri": "https://localhost:8080/",
          "height": 471
        }
      },
      "execution_count": 1,
      "outputs": [
        {
          "output_type": "stream",
          "name": "stdout",
          "text": [
            "Downloading file from Google Drive...\n"
          ]
        },
        {
          "output_type": "stream",
          "name": "stderr",
          "text": [
            "/usr/local/lib/python3.11/dist-packages/gdown/parse_url.py:48: UserWarning: You specified a Google Drive link that is not the correct link to download a file. You might want to try `--fuzzy` option or the following url: https://drive.google.com/uc?id=1Eo6S0PdLyJ1TuwH1cw15-hw0VTpCxauS\n",
            "  warnings.warn(\n",
            "Downloading...\n",
            "From: https://drive.google.com/file/d/1Eo6S0PdLyJ1TuwH1cw15-hw0VTpCxauS/view?usp=drivesdk\n",
            "To: /content/dataset.csv\n",
            "39.8kB [00:00, 9.84MB/s]\n"
          ]
        },
        {
          "output_type": "stream",
          "name": "stdout",
          "text": [
            "File downloaded as: dataset.csv\n",
            "\n",
            "Dataset loaded successfully!\n",
            "Error: Missing required columns in the dataset. \"None of [Index([1, 2, 3], dtype='int64')] are in the [columns]\"\n",
            "\n",
            "First 5 rows of Features (X):\n"
          ]
        },
        {
          "output_type": "error",
          "ename": "NameError",
          "evalue": "name 'X' is not defined",
          "traceback": [
            "\u001b[0;31m---------------------------------------------------------------------------\u001b[0m",
            "\u001b[0;31mNameError\u001b[0m                                 Traceback (most recent call last)",
            "\u001b[0;32m<ipython-input-1-91a733dc941f>\u001b[0m in \u001b[0;36m<cell line: 0>\u001b[0;34m()\u001b[0m\n\u001b[1;32m     33\u001b[0m \u001b[0;31m# Step 5: Print the loaded data to confirm\u001b[0m\u001b[0;34m\u001b[0m\u001b[0;34m\u001b[0m\u001b[0m\n\u001b[1;32m     34\u001b[0m \u001b[0mprint\u001b[0m\u001b[0;34m(\u001b[0m\u001b[0;34m\"\\nFirst 5 rows of Features (X):\"\u001b[0m\u001b[0;34m)\u001b[0m\u001b[0;34m\u001b[0m\u001b[0;34m\u001b[0m\u001b[0m\n\u001b[0;32m---> 35\u001b[0;31m \u001b[0mprint\u001b[0m\u001b[0;34m(\u001b[0m\u001b[0mX\u001b[0m\u001b[0;34m[\u001b[0m\u001b[0;34m:\u001b[0m\u001b[0;36m5\u001b[0m\u001b[0;34m]\u001b[0m\u001b[0;34m)\u001b[0m\u001b[0;34m\u001b[0m\u001b[0;34m\u001b[0m\u001b[0m\n\u001b[0m\u001b[1;32m     36\u001b[0m \u001b[0mprint\u001b[0m\u001b[0;34m(\u001b[0m\u001b[0;34m\"\\nFirst 5 Labels (y):\"\u001b[0m\u001b[0;34m)\u001b[0m\u001b[0;34m\u001b[0m\u001b[0;34m\u001b[0m\u001b[0m\n\u001b[1;32m     37\u001b[0m \u001b[0mprint\u001b[0m\u001b[0;34m(\u001b[0m\u001b[0my\u001b[0m\u001b[0;34m[\u001b[0m\u001b[0;34m:\u001b[0m\u001b[0;36m5\u001b[0m\u001b[0;34m]\u001b[0m\u001b[0;34m)\u001b[0m\u001b[0;34m\u001b[0m\u001b[0;34m\u001b[0m\u001b[0m\n",
            "\u001b[0;31mNameError\u001b[0m: name 'X' is not defined"
          ]
        }
      ]
    },
    {
      "cell_type": "code",
      "source": [
        "import numpy as np\n",
        "from collections import Counter\n",
        "from sklearn.metrics import accuracy_score, precision_score, recall_score\n",
        "from sklearn.model_selection import train_test_split\n",
        "\n",
        "# Function to calculate Euclidean distance\n",
        "def euclidean_distance(point1, point2):\n",
        "    return np.sqrt(np.sum((point1 - point2) ** 2))\n",
        "\n",
        "# k-Nearest Neighbors algorithm\n",
        "class KNN:\n",
        "    def __init__(self, k=3):\n",
        "        self.k = k\n",
        "\n",
        "    def fit(self, X_train, y_train):\n",
        "        # Store training data\n",
        "        self.X_train = X_train\n",
        "        self.y_train = y_train\n",
        "\n",
        "    def predict(self, X_test):\n",
        "        predictions = [self._predict(x) for x in X_test]\n",
        "        return np.array(predictions)\n",
        "\n",
        "    def _predict(self, x):\n",
        "        # Calculate distances from x to all training points\n",
        "        distances = [euclidean_distance(x, x_train) for x_train in self.X_train]\n",
        "        # Get the indices of the k-nearest neighbors\n",
        "        k_indices = np.argsort(distances)[:self.k]\n",
        "        # Get the labels of the k-nearest neighbors\n",
        "        k_nearest_labels = [self.y_train[i] for i in k_indices]\n",
        "        # Return the most common label (majority voting)\n",
        "        most_common = Counter(k_nearest_labels).most_common(1)\n",
        "        return most_common[0][0]\n",
        "\n",
        "# Load dataset (replace this with your dataset loading code)\n",
        "# For simplicity, we generate a dataset here\n",
        "np.random.seed(42)\n",
        "              # 3 features (acc_x, acc_y, acc_z)\n",
        " # 3 classes: 0 (vertical),\n",
        "# Split dataset into training and testing sets (70% training, 30% testing)\n",
        "X_train, X_test, y_train, y_test = train_test_split(X, y, test_size=0.3, random_state=42)\n",
        "\n",
        "# Initialize and train the kNN model\n",
        "k = 3  # Example: k=3\n",
        "knn = KNN(k=k)\n",
        "knn.fit(X_train, y_train)\n",
        "\n",
        "# Predict on the test set\n",
        "y_pred = knn.predict(X_test)\n",
        "\n",
        "# Calculate and report metrics\n",
        "accuracy = accuracy_score(y_test, y_pred)\n",
        "precision = precision_score(y_test, y_pred, average='weighted')\n",
        "recall = recall_score(y_test, y_pred, average='weighted')\n",
        "\n",
        "print(f\"Accuracy: {accuracy:.2f}\")\n",
        "print(f\"Precision: {precision:.2f}\")\n",
        "print(f\"Recall: {recall:.2f}\")\n"
      ],
      "metadata": {
        "id": "1CwYTWSyrAnA"
      },
      "execution_count": null,
      "outputs": []
    },
    {
      "cell_type": "markdown",
      "source": [],
      "metadata": {
        "id": "paCgjqq-a-ug"
      }
    }
  ]
}